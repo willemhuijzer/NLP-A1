{
 "cells": [
  {
   "cell_type": "code",
   "execution_count": 29,
   "metadata": {},
   "outputs": [
    {
     "name": "stdout",
     "output_type": "stream",
     "text": [
      "Hell\n"
     ]
    }
   ],
   "source": [
    "string = \"Hello!\"\n",
    "\n",
    "print(string[0:4])"
   ]
  },
  {
   "attachments": {},
   "cell_type": "markdown",
   "metadata": {},
   "source": [
    "<h2>Function 1: Validate string with REGEX</h2>"
   ]
  },
  {
   "attachments": {},
   "cell_type": "markdown",
   "metadata": {},
   "source": [
    "<b>Regular expressions:</b>\n",
    "\n",
    "\\d  = [0-9] -->   <i>(digit)</i>\n",
    "\n",
    "\\D = [^0-9]   -->  <i>(no digit)</i>\n",
    "\n",
    "\\s = [\\t\\n\\r\\f\\v]  --> <i>(whitespace)</i>\n",
    "\n",
    "\\S = [^ \\t\\n\\r\\f\\v] -->    <i>(no whitespace)</i>\n",
    "\n",
    "\\w = [a-zA-Z0-9_] -->  <i>(alphanumeric character)</i>\n",
    "\n",
    "\\W = [^a-zA-Z0-9_] --> <i>(Non-alphanumeric character)</i>\n",
    "\n",
    "(https://docs.python.org/3/howto/regex.html)"
   ]
  },
  {
   "cell_type": "code",
   "execution_count": 30,
   "metadata": {},
   "outputs": [
    {
     "name": "stdout",
     "output_type": "stream",
     "text": [
      "None\n",
      "<re.Match object; span=(0, 1), match='h'>\n"
     ]
    }
   ],
   "source": [
    "check_first_character = re.compile(\"[a-z]\")\n",
    "\n",
    "print(check_first_character.match(\"Hello!\"))\n",
    "print(check_first_character.match(\"hello\"))"
   ]
  },
  {
   "cell_type": "code",
   "execution_count": 31,
   "metadata": {},
   "outputs": [
    {
     "name": "stdout",
     "output_type": "stream",
     "text": [
      "<re.Match object; span=(0, 5), match='Hello'>\n",
      "<re.Match object; span=(0, 22), match='Heeeeeeeeeeelllooooooo'>\n"
     ]
    }
   ],
   "source": [
    "check_length = re.compile('[a-zA-Z]*')\n",
    "print(check_length.match(\"Hello\"))\n",
    "print(check_length.match(\"Heeeeeeeeeeelllooooooo\"))"
   ]
  },
  {
   "cell_type": "code",
   "execution_count": 32,
   "metadata": {},
   "outputs": [
    {
     "name": "stdout",
     "output_type": "stream",
     "text": [
      "(0, 22)\n"
     ]
    }
   ],
   "source": [
    "checked_string = check_length.match(\"Heeeeeeeeeeelllooooooo\")\n",
    "print(checked_string.span())"
   ]
  },
  {
   "attachments": {},
   "cell_type": "markdown",
   "metadata": {},
   "source": [
    "<h2>Function 1: Alternative way of validating string</h2>"
   ]
  },
  {
   "attachments": {},
   "cell_type": "markdown",
   "metadata": {},
   "source": [
    "<b>.isalpha()</b> checks whether a string contains alphabetic characters. It returns either <i>True</i> or <i>False</i>\n",
    "\n",
    "<b>.isdigit()</b> does the same, but then for numerical characters."
   ]
  },
  {
   "cell_type": "code",
   "execution_count": 25,
   "metadata": {},
   "outputs": [
    {
     "name": "stdout",
     "output_type": "stream",
     "text": [
      "True\n",
      "False\n"
     ]
    }
   ],
   "source": [
    "print(string.isalpha())\n",
    "print(string.isdigit())"
   ]
  },
  {
   "cell_type": "code",
   "execution_count": 26,
   "metadata": {},
   "outputs": [
    {
     "name": "stdout",
     "output_type": "stream",
     "text": [
      "True\n"
     ]
    }
   ],
   "source": [
    "print(string[:4].isalpha())"
   ]
  },
  {
   "attachments": {},
   "cell_type": "markdown",
   "metadata": {},
   "source": [
    "<h2>Function 3: Probabilities of DNA</h2>"
   ]
  },
  {
   "cell_type": "code",
   "execution_count": 46,
   "metadata": {},
   "outputs": [
    {
     "name": "stdout",
     "output_type": "stream",
     "text": [
      "Counter({'hat': 3, 'sock': 3, 'shoe': 1, 'shirt': 1})\n"
     ]
    }
   ],
   "source": [
    "from collections import Counter\n",
    "\n",
    "wardrobe = ['hat', 'shoe', 'hat', 'shirt', 'sock', 'hat', 'sock', 'sock']\n",
    "wardrobe_counted = Counter(wardrobe)\n",
    "\n",
    "print(wardrobe_counted)"
   ]
  }
 ],
 "metadata": {
  "kernelspec": {
   "display_name": "base",
   "language": "python",
   "name": "python3"
  },
  "language_info": {
   "codemirror_mode": {
    "name": "ipython",
    "version": 3
   },
   "file_extension": ".py",
   "mimetype": "text/x-python",
   "name": "python",
   "nbconvert_exporter": "python",
   "pygments_lexer": "ipython3",
   "version": "3.9.13"
  },
  "orig_nbformat": 4
 },
 "nbformat": 4,
 "nbformat_minor": 2
}
